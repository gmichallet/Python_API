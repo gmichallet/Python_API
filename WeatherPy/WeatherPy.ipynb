{
 "cells": [
  {
   "cell_type": "markdown",
   "metadata": {},
   "source": [
    "# WeatherPy\n",
    "----\n",
    "\n",
    "#### Note\n",
    "* Instructions have been included for each segment. You do not have to follow them exactly, but they are included to help you think through the steps."
   ]
  },
  {
   "cell_type": "code",
   "execution_count": 11,
   "metadata": {
    "scrolled": true
   },
   "outputs": [],
   "source": [
    "# Dependencies and Setup\n",
    "import matplotlib.pyplot as plt\n",
    "import pandas as pd\n",
    "import numpy as np\n",
    "import requests\n",
    "import time\n",
    "from scipy.stats import linregress\n",
    "import json\n",
    "from datetime import datetime\n",
    "\n",
    "# Import API key\n",
    "from api_keys import weather_api_key\n",
    "\n",
    "# Incorporated citipy to determine city based on latitude and longitude\n",
    "from citipy import citipy\n",
    "\n",
    "# Output File (CSV)\n",
    "output_data_file = \"output_data/cities.csv\"\n",
    "\n",
    "# Range of latitudes and longitudes\n",
    "lat_range = (-90, 90)\n",
    "lng_range = (-180, 180)"
   ]
  },
  {
   "cell_type": "markdown",
   "metadata": {},
   "source": [
    "## Generate Cities List"
   ]
  },
  {
   "cell_type": "code",
   "execution_count": 12,
   "metadata": {},
   "outputs": [
    {
     "data": {
      "text/plain": [
       "602"
      ]
     },
     "execution_count": 12,
     "metadata": {},
     "output_type": "execute_result"
    }
   ],
   "source": [
    "# List for holding lat_lngs and cities\n",
    "lat_lngs = []\n",
    "cities = []\n",
    "\n",
    "# Create a set of random lat and lng combinations\n",
    "lats = np.random.uniform(lat_range[0], lat_range[1], size=1500)\n",
    "lngs = np.random.uniform(lng_range[0], lng_range[1], size=1500)\n",
    "lat_lngs = zip(lats, lngs)\n",
    "\n",
    "# Identify nearest city for each lat, lng combination\n",
    "for lat_lng in lat_lngs:\n",
    "    city = citipy.nearest_city(lat_lng[0], lat_lng[1]).city_name\n",
    "    \n",
    "    # If the city is unique, then add it to a our cities list\n",
    "    if city not in cities:\n",
    "        cities.append(city)\n",
    "\n",
    "# Print the city count to confirm sufficient count\n",
    "len(cities)"
   ]
  },
  {
   "cell_type": "code",
   "execution_count": 13,
   "metadata": {
    "scrolled": true
   },
   "outputs": [
    {
     "name": "stdout",
     "output_type": "stream",
     "text": [
      "Processing record 1|caxito\n",
      "Processing record 2|tuktoyaktuk\n",
      "Processing record 3|bredasdorp\n",
      "Processing record 4|mar del plata\n",
      "Processing record 5|atuona\n",
      "Processing record 6|rikitea\n",
      "Processing record 7|albany\n",
      "City not found. skipping.\n",
      "Processing record 8|hamilton\n",
      "City not found. skipping.\n",
      "Processing record 9|van\n",
      "Processing record 10|new norfolk\n",
      "Processing record 11|carnarvon\n",
      "Processing record 12|puerto ayora\n",
      "Processing record 13|kapaa\n",
      "Processing record 14|hualmay\n",
      "Processing record 15|airai\n",
      "Processing record 16|saldanha\n",
      "Processing record 17|sinazongwe\n",
      "Processing record 18|rangpur\n",
      "Processing record 19|killybegs\n",
      "Processing record 20|punta arenas\n",
      "Processing record 21|aklavik\n",
      "Processing record 22|cockburn town\n",
      "Processing record 23|hofn\n",
      "Processing record 24|provideniya\n",
      "Processing record 25|tateyama\n",
      "Processing record 26|suslovo\n",
      "Processing record 27|hermanus\n",
      "Processing record 28|cape town\n",
      "Processing record 29|kodinsk\n",
      "Processing record 30|kruisfontein\n",
      "Processing record 31|labuhan\n",
      "Processing record 32|ambilobe\n",
      "Processing record 33|saskylakh\n",
      "Processing record 34|luderitz\n",
      "Processing record 35|arraial do cabo\n",
      "Processing record 36|bluff\n",
      "Processing record 37|saint-philippe\n",
      "Processing record 38|bethel\n",
      "Processing record 39|qaanaaq\n",
      "Processing record 40|hilo\n",
      "Processing record 41|vaini\n",
      "Processing record 42|chokurdakh\n",
      "Processing record 43|port lincoln\n",
      "Processing record 44|santa rosalia\n",
      "Processing record 45|port shepstone\n",
      "Processing record 46|khatanga\n",
      "Processing record 47|thompson\n",
      "Processing record 48|ushuaia\n",
      "Processing record 49|kampot\n",
      "Processing record 50|yellowknife\n",
      "Processing record 51|kaitangata\n",
      "Processing record 52|belaya gora\n",
      "Processing record 53|tazovskiy\n",
      "City not found. skipping.\n",
      "Processing record 54|jamestown\n",
      "Processing record 55|tarsus\n",
      "City not found. skipping.\n",
      "Processing record 56|nikolskoye\n",
      "Processing record 57|daan\n",
      "City not found. skipping.\n",
      "Processing record 58|stornoway\n",
      "Processing record 59|beidao\n",
      "Processing record 60|mataura\n",
      "Processing record 61|pacific grove\n",
      "Processing record 62|torbay\n",
      "Processing record 63|paraiso\n",
      "Processing record 64|shakawe\n",
      "Processing record 65|coruripe\n",
      "Processing record 66|minab\n",
      "City not found. skipping.\n",
      "Processing record 67|halifax\n",
      "Processing record 68|bengkulu\n",
      "Processing record 69|port elizabeth\n",
      "Processing record 70|eregli\n",
      "Processing record 71|ayer tawar\n",
      "Processing record 72|chapais\n",
      "Processing record 73|iqaluit\n",
      "Processing record 74|maneadero\n",
      "Processing record 75|meulaboh\n",
      "Processing record 76|husavik\n",
      "Processing record 77|hithadhoo\n",
      "Processing record 78|ballina\n",
      "Processing record 79|clyde river\n",
      "Processing record 80|abbeville\n",
      "Processing record 81|kawalu\n",
      "Processing record 82|atambua\n",
      "Processing record 83|los llanos de aridane\n",
      "Processing record 84|san antonio\n",
      "Processing record 85|liverpool\n",
      "Processing record 86|severo-kurilsk\n",
      "Processing record 87|linhares\n",
      "Processing record 88|geraldton\n",
      "Processing record 89|plymouth\n",
      "Processing record 90|spring hill\n",
      "Processing record 91|amazar\n",
      "Processing record 92|rocha\n",
      "Processing record 93|coquimbo\n",
      "Processing record 94|hobart\n",
      "Processing record 95|dikson\n",
      "Processing record 96|flinders\n",
      "Processing record 97|butaritari\n",
      "Processing record 98|dunedin\n",
      "Processing record 99|mandurah\n",
      "Processing record 100|mahebourg\n",
      "Processing record 101|tabuk\n",
      "Processing record 102|oum hadjer\n",
      "Processing record 103|laela\n",
      "Processing record 104|busselton\n",
      "Processing record 105|cherskiy\n",
      "Processing record 106|san cristobal\n",
      "Processing record 107|ribeira grande\n",
      "Processing record 108|mount isa\n",
      "Processing record 109|ilulissat\n",
      "Processing record 110|lasa\n",
      "Processing record 111|georgetown\n",
      "Processing record 112|sur\n",
      "Processing record 113|hasaki\n",
      "Processing record 114|victoria\n",
      "Processing record 115|visby\n",
      "Processing record 116|nome\n",
      "Processing record 117|bambous virieux\n",
      "Processing record 118|tasiilaq\n",
      "Processing record 119|narsaq\n",
      "Processing record 120|nebug\n",
      "Processing record 121|ixtapa\n",
      "Processing record 122|progreso\n",
      "Processing record 123|gerash\n",
      "Processing record 124|mehamn\n",
      "Processing record 125|artesia\n",
      "Processing record 126|arrecife\n",
      "Processing record 127|bathsheba\n",
      "Processing record 128|izumo\n",
      "Processing record 129|jizan\n",
      "Processing record 130|eyl\n",
      "Processing record 131|muros\n",
      "Processing record 132|east london\n",
      "Processing record 133|nauta\n",
      "Processing record 134|dhangadhi\n",
      "Processing record 135|kushiro\n",
      "Processing record 136|mastic beach\n",
      "Processing record 137|paramonga\n",
      "Processing record 138|altona\n",
      "Processing record 139|hami\n",
      "City not found. skipping.\n",
      "Processing record 140|half moon bay\n",
      "Processing record 141|cap malheureux\n",
      "Processing record 142|isangel\n",
      "Processing record 143|saint george\n",
      "Processing record 144|otavi\n",
      "City not found. skipping.\n",
      "Processing record 145|karavayevo\n",
      "Processing record 146|sakaiminato\n",
      "Processing record 147|uhlove\n",
      "Processing record 148|port alfred\n",
      "Processing record 149|egvekinot\n",
      "Processing record 150|altay\n",
      "Processing record 151|avarua\n",
      "Processing record 152|beringovskiy\n",
      "Processing record 153|batemans bay\n",
      "Processing record 154|lagoa\n",
      "Processing record 155|rio gallegos\n",
      "Processing record 156|longyearbyen\n",
      "Processing record 157|coihaique\n",
      "Processing record 158|coahuayana\n",
      "Processing record 159|alice springs\n",
      "Processing record 160|wahiawa\n",
      "Processing record 161|coos bay\n",
      "City not found. skipping.\n",
      "Processing record 162|buala\n",
      "Processing record 163|djibo\n",
      "Processing record 164|seymchan\n",
      "Processing record 165|duluth\n",
      "Processing record 166|wamba\n",
      "Processing record 167|saint-denis\n",
      "Processing record 168|chikhli\n",
      "Processing record 169|fairbanks\n",
      "Processing record 170|tres lagoas\n",
      "Processing record 171|gijon\n",
      "Processing record 172|zhanaozen\n",
      "Processing record 173|talaya\n",
      "Processing record 174|rosh pinna\n",
      "Processing record 175|usinsk\n",
      "Processing record 176|boundiali\n",
      "Processing record 177|whitecourt\n",
      "Processing record 178|xuddur\n",
      "Processing record 179|basco\n",
      "Processing record 180|deputatskiy\n",
      "Processing record 181|antofagasta\n",
      "City not found. skipping.\n",
      "Processing record 182|dong hoi\n",
      "Processing record 183|norman wells\n",
      "Processing record 184|naryan-mar\n",
      "Processing record 185|kodiak\n",
      "Processing record 186|nanortalik\n",
      "Processing record 187|barrow\n",
      "Processing record 188|urcos\n",
      "Processing record 189|macusani\n",
      "Processing record 190|simplicio mendes\n",
      "Processing record 191|praya\n",
      "Processing record 192|castro\n",
      "Processing record 193|pecos\n",
      "Processing record 194|san patricio\n",
      "Processing record 195|sitka\n",
      "Processing record 196|san policarpo\n",
      "Processing record 197|college\n",
      "Processing record 198|ambulu\n",
      "Processing record 199|karratha\n",
      "Processing record 200|asau\n",
      "City not found. skipping.\n",
      "Processing record 201|lavrentiya\n",
      "Processing record 202|ulladulla\n",
      "Processing record 203|bacolod\n",
      "Processing record 204|opuwo\n",
      "Processing record 205|kyren\n",
      "Processing record 206|upernavik\n",
      "Processing record 207|berlevag\n",
      "Processing record 208|vardo\n",
      "Processing record 209|la ronge\n",
      "Processing record 210|portland\n",
      "City not found. skipping.\n",
      "Processing record 211|necochea\n",
      "Processing record 212|santander jimenez\n",
      "Processing record 213|santa lucia\n",
      "Processing record 214|nouadhibou\n",
      "Processing record 215|lebu\n",
      "Processing record 216|ventspils\n",
      "Processing record 217|vila franca do campo\n",
      "Processing record 218|fukue\n",
      "Processing record 219|cabo san lucas\n",
      "Processing record 220|sebring\n",
      "Processing record 221|aljezur\n",
      "Processing record 222|lompoc\n",
      "Processing record 223|ponta do sol\n",
      "Processing record 224|kirensk\n",
      "Processing record 225|henties bay\n",
      "Processing record 226|bandikui\n",
      "Processing record 227|panaba\n",
      "Processing record 228|sao gabriel da cachoeira\n",
      "Processing record 229|klaksvik\n",
      "Processing record 230|khandbari\n",
      "Processing record 231|sauk rapids\n",
      "Processing record 232|svrljig\n",
      "Processing record 233|capitan bado\n",
      "Processing record 234|naranjal\n",
      "Processing record 235|mahon\n",
      "Processing record 236|kavieng\n",
      "Processing record 237|galveston\n",
      "City not found. skipping.\n",
      "Processing record 238|chancay\n",
      "Processing record 239|alvaraes\n",
      "Processing record 240|tiksi\n",
      "Processing record 241|pevek\n",
      "Processing record 242|bud\n",
      "City not found. skipping.\n",
      "Processing record 243|chuy\n",
      "Processing record 244|grand gaube\n",
      "Processing record 245|guaratuba\n",
      "Processing record 246|ambon\n",
      "City not found. skipping.\n",
      "Processing record 247|tomatlan\n",
      "Processing record 248|taoudenni\n",
      "Processing record 249|dehloran\n",
      "Processing record 250|barabai\n",
      "Processing record 251|ketchikan\n",
      "City not found. skipping.\n",
      "Processing record 252|grindavik\n",
      "Processing record 253|arkhara\n"
     ]
    },
    {
     "name": "stdout",
     "output_type": "stream",
     "text": [
      "Processing record 254|norden\n",
      "Processing record 255|kavaratti\n",
      "Processing record 256|huangnihe\n",
      "Processing record 257|santa vitoria do palmar\n",
      "Processing record 258|cairns\n",
      "Processing record 259|oksfjord\n",
      "City not found. skipping.\n",
      "Processing record 260|dhidhdhoo\n",
      "Processing record 261|saint anthony\n",
      "Processing record 262|sobolevo\n",
      "Processing record 263|saint-joseph\n",
      "Processing record 264|valparaiso\n",
      "Processing record 265|faanui\n",
      "Processing record 266|kodinar\n",
      "Processing record 267|hambantota\n",
      "Processing record 268|richards bay\n",
      "Processing record 269|xiuyan\n",
      "Processing record 270|batagay\n",
      "City not found. skipping.\n",
      "Processing record 271|honningsvag\n",
      "Processing record 272|chicama\n",
      "Processing record 273|khuzhir\n",
      "Processing record 274|batos\n",
      "Processing record 275|vao\n",
      "City not found. skipping.\n",
      "City not found. skipping.\n",
      "Processing record 276|bilma\n",
      "Processing record 277|coffs harbour\n",
      "Processing record 278|banjar\n",
      "Processing record 279|shyryayeve\n",
      "Processing record 280|khandagayty\n",
      "Processing record 281|suntar\n",
      "Processing record 282|ahome\n",
      "Processing record 283|tamandare\n",
      "Processing record 284|kungurtug\n",
      "Processing record 285|bridlington\n",
      "Processing record 286|san vito\n",
      "Processing record 287|tigzirt\n",
      "Processing record 288|asadabad\n",
      "Processing record 289|mount pleasant\n",
      "Processing record 290|retalhuleu\n",
      "Processing record 291|ternate\n",
      "Processing record 292|hovd\n",
      "City not found. skipping.\n",
      "Processing record 293|sao filipe\n",
      "Processing record 294|frohnleiten\n",
      "Processing record 295|gardez\n",
      "City not found. skipping.\n",
      "City not found. skipping.\n",
      "Processing record 296|praia da vitoria\n",
      "Processing record 297|linxia\n",
      "City not found. skipping.\n",
      "Processing record 298|yakeshi\n",
      "Processing record 299|auki\n",
      "Processing record 300|lubango\n",
      "Processing record 301|mongo\n",
      "Processing record 302|pisco\n",
      "Processing record 303|moba\n",
      "Processing record 304|madang\n",
      "Processing record 305|saint-francois\n",
      "Processing record 306|leningradskiy\n",
      "Processing record 307|codrington\n",
      "Processing record 308|lamu\n",
      "City not found. skipping.\n",
      "Processing record 309|hohen neuendorf\n",
      "Processing record 310|ponta pora\n",
      "Processing record 311|nukus\n",
      "Processing record 312|comodoro rivadavia\n",
      "Processing record 313|sapa\n",
      "City not found. skipping.\n",
      "Processing record 314|zarubino\n",
      "Processing record 315|novo aripuana\n",
      "Processing record 316|kaeo\n",
      "Processing record 317|fortuna\n",
      "Processing record 318|nanning\n",
      "Processing record 319|ardmore\n",
      "Processing record 320|katsuura\n",
      "Processing record 321|lorengau\n",
      "Processing record 322|nishihara\n",
      "Processing record 323|esperance\n",
      "Processing record 324|broken hill\n",
      "Processing record 325|murashi\n",
      "Processing record 326|san jose\n",
      "Processing record 327|belyy yar\n",
      "City not found. skipping.\n",
      "Processing record 328|rosa zarate\n",
      "Processing record 329|belluno\n",
      "Processing record 330|haines junction\n",
      "Processing record 331|ormara\n",
      "Processing record 332|belfast\n",
      "Processing record 333|ponyri\n",
      "Processing record 334|mizdah\n",
      "Processing record 335|presidencia roque saenz pena\n",
      "Processing record 336|lemon tree passage\n",
      "Processing record 337|shimoda\n",
      "Processing record 338|huarmey\n",
      "Processing record 339|great yarmouth\n",
      "Processing record 340|verkhnyaya toyma\n",
      "Processing record 341|severnoye\n",
      "Processing record 342|gazli\n",
      "Processing record 343|broome\n",
      "Processing record 344|mbarara\n",
      "Processing record 345|camacha\n",
      "Processing record 346|da nang\n",
      "Processing record 347|souillac\n",
      "Processing record 348|norsup\n",
      "Processing record 349|mashhad\n",
      "Processing record 350|parchim\n",
      "Processing record 351|rognan\n",
      "Processing record 352|tucuman\n",
      "Processing record 353|warmbad\n",
      "Processing record 354|yumen\n",
      "Processing record 355|makakilo city\n",
      "City not found. skipping.\n",
      "Processing record 356|conde\n",
      "Processing record 357|komsomolskiy\n",
      "Processing record 358|ukiah\n",
      "Processing record 359|high level\n",
      "Processing record 360|tahta\n",
      "Processing record 361|alofi\n",
      "City not found. skipping.\n",
      "Processing record 362|springbok\n",
      "Processing record 363|keetmanshoop\n",
      "Processing record 364|palmer\n",
      "Processing record 365|voyvozh\n",
      "Processing record 366|dawlatabad\n",
      "Processing record 367|astoria\n",
      "Processing record 368|sitrah\n",
      "Processing record 369|chiria\n",
      "Processing record 370|cedar city\n",
      "Processing record 371|cascais\n",
      "Processing record 372|atherton\n",
      "Processing record 373|talcahuano\n",
      "Processing record 374|muscatine\n",
      "Processing record 375|saint-georges\n",
      "Processing record 376|conceicao do araguaia\n",
      "Processing record 377|talnakh\n",
      "Processing record 378|bereslavka\n",
      "Processing record 379|porto novo\n",
      "Processing record 380|yerbogachen\n",
      "City not found. skipping.\n",
      "City not found. skipping.\n",
      "Processing record 381|onega\n",
      "Processing record 382|baykit\n",
      "Processing record 383|nizwa\n",
      "Processing record 384|ca mau\n",
      "Processing record 385|storsteinnes\n",
      "Processing record 386|petropavlovka\n",
      "Processing record 387|traiguen\n",
      "Processing record 388|oktyabrskiy\n",
      "Processing record 389|tortoli\n",
      "Processing record 390|beitbridge\n",
      "Processing record 391|preobrazheniye\n",
      "Processing record 392|george town\n",
      "Processing record 393|tommot\n",
      "Processing record 394|puerto colombia\n",
      "Processing record 395|rio verde de mato grosso\n",
      "Processing record 396|bedele\n",
      "Processing record 397|ginir\n",
      "Processing record 398|malyye derbety\n",
      "Processing record 399|kasempa\n",
      "Processing record 400|flic en flac\n",
      "Processing record 401|sohag\n",
      "Processing record 402|galle\n",
      "Processing record 403|yining\n",
      "Processing record 404|faya\n",
      "Processing record 405|biak\n",
      "City not found. skipping.\n",
      "Processing record 406|tuatapere\n",
      "Processing record 407|ust-kut\n",
      "Processing record 408|korla\n",
      "Processing record 409|gumdag\n",
      "Processing record 410|vostok\n",
      "Processing record 411|sao jose da coroa grande\n",
      "Processing record 412|mawlaik\n",
      "Processing record 413|pachino\n",
      "Processing record 414|ewa beach\n",
      "Processing record 415|gravdal\n",
      "Processing record 416|itupiranga\n",
      "Processing record 417|teramo\n",
      "Processing record 418|kamenka\n",
      "Processing record 419|wilmington\n",
      "Processing record 420|bagdarin\n",
      "Processing record 421|champerico\n",
      "Processing record 422|laguna\n",
      "Processing record 423|namatanai\n",
      "Processing record 424|cayenne\n",
      "Processing record 425|straumen\n",
      "Processing record 426|balakhta\n",
      "Processing record 427|baruun-urt\n",
      "Processing record 428|nelson bay\n",
      "Processing record 429|myingyan\n",
      "Processing record 430|birjand\n",
      "Processing record 431|glendive\n",
      "Processing record 432|tabou\n",
      "Processing record 433|marshfield\n",
      "Processing record 434|kutum\n",
      "Processing record 435|mao\n",
      "Processing record 436|klyuchi\n",
      "Processing record 437|soyo\n",
      "Processing record 438|goderich\n",
      "Processing record 439|tura\n",
      "Processing record 440|vestmanna\n",
      "Processing record 441|namibe\n",
      "Processing record 442|toora-khem\n",
      "City not found. skipping.\n",
      "Processing record 443|koutiala\n",
      "Processing record 444|avera\n",
      "Processing record 445|charters towers\n",
      "Processing record 446|kisii\n",
      "Processing record 447|cape canaveral\n",
      "Processing record 448|verkhnyaya inta\n",
      "Processing record 449|steinbach\n",
      "Processing record 450|ratnagiri\n",
      "Processing record 451|bogorodskoye\n",
      "Processing record 452|kiama\n",
      "Processing record 453|garchitorena\n",
      "Processing record 454|chimoio\n",
      "Processing record 455|port hedland\n",
      "Processing record 456|yuxia\n",
      "Processing record 457|barra patuca\n",
      "Processing record 458|nemuro\n",
      "Processing record 459|fort saint james\n",
      "Processing record 460|ancud\n",
      "City not found. skipping.\n",
      "Processing record 461|lac du bonnet\n",
      "Processing record 462|perth\n",
      "Processing record 463|maniitsoq\n",
      "Processing record 464|aldan\n",
      "Processing record 465|amurzet\n",
      "Processing record 466|houston\n",
      "Processing record 467|eresos\n",
      "City not found. skipping.\n",
      "Processing record 468|alyangula\n",
      "Processing record 469|bandarban\n",
      "Processing record 470|kabare\n",
      "Processing record 471|vuktyl\n",
      "Processing record 472|kamina\n",
      "Processing record 473|noumea\n",
      "Processing record 474|coracao de jesus\n",
      "Processing record 475|kalabo\n",
      "Processing record 476|sicuani\n",
      "Processing record 477|yarmouth\n",
      "Processing record 478|haveri\n",
      "Processing record 479|beira\n",
      "Processing record 480|matay\n",
      "Processing record 481|san mateo del mar\n",
      "Processing record 482|pinega\n",
      "Processing record 483|yulara\n",
      "Processing record 484|visnes\n",
      "Processing record 485|kimbe\n",
      "Processing record 486|the valley\n",
      "Processing record 487|ust-donetskiy\n",
      "Processing record 488|victor harbor\n",
      "Processing record 489|hwange\n",
      "Processing record 490|okha\n",
      "Processing record 491|sochi\n",
      "Processing record 492|bayangol\n",
      "City not found. skipping.\n",
      "Processing record 493|banda aceh\n",
      "City not found. skipping.\n",
      "Processing record 494|agadir\n",
      "City not found. skipping.\n",
      "Processing record 495|youhao\n",
      "Processing record 496|clinton\n"
     ]
    },
    {
     "name": "stdout",
     "output_type": "stream",
     "text": [
      "City not found. skipping.\n",
      "Processing record 497|guerrero negro\n",
      "Processing record 498|quatre cocos\n",
      "Processing record 499|ingham\n",
      "Processing record 500|kontagora\n",
      "Processing record 501|vigrestad\n",
      "Processing record 502|guadalupe y calvo\n",
      "Processing record 503|margate\n",
      "Processing record 504|kem\n",
      "Processing record 505|sinnamary\n",
      "City not found. skipping.\n",
      "Processing record 506|ordu\n",
      "Processing record 507|washougal\n",
      "Processing record 508|caravelas\n",
      "Processing record 509|rawson\n",
      "Processing record 510|camacupa\n",
      "Processing record 511|ouadda\n",
      "Processing record 512|tiznit\n",
      "Processing record 513|galdar\n",
      "Processing record 514|ampanihy\n",
      "Processing record 515|grao mogol\n",
      "City not found. skipping.\n",
      "Processing record 516|maceio\n",
      "Processing record 517|la asuncion\n",
      "Processing record 518|zhuhai\n",
      "Processing record 519|saint-pierre\n",
      "Processing record 520|qingdao\n",
      "Processing record 521|chifeng\n",
      "Processing record 522|kotturu\n",
      "Processing record 523|beloomut\n",
      "Processing record 524|port blair\n",
      "Processing record 525|husyatyn\n",
      "City not found. skipping.\n",
      "Processing record 526|doha\n",
      "Processing record 527|krasnoselkup\n",
      "Processing record 528|jiaxing\n",
      "Processing record 529|zakharovo\n",
      "Processing record 530|dicabisagan\n",
      "Processing record 531|beyneu\n",
      "Processing record 532|punta alta\n",
      "City not found. skipping.\n",
      "Processing record 533|yaan\n",
      "Processing record 534|celendin\n",
      "City not found. skipping.\n",
      "City not found. skipping.\n",
      "Processing record 535|san carlos\n",
      "Processing record 536|qinhuangdao\n",
      "City not found. skipping.\n",
      "City not found. skipping.\n",
      "Processing record 537|sokolo\n",
      "Processing record 538|dabat\n",
      "Processing record 539|mildura\n",
      "Processing record 540|belmonte\n",
      "Processing record 541|touros\n",
      "Processing record 542|coihueco\n",
      "Processing record 543|kulhudhuffushi\n",
      "Processing record 544|moron\n",
      "City not found. skipping.\n",
      "Processing record 545|abalak\n",
      "Processing record 546|yar-sale\n",
      "Processing record 547|pangai\n",
      "Processing record 548|khash\n",
      "Processing record 549|pocone\n",
      "Processing record 550|santa maria\n",
      "Processing record 551|cadillac\n",
      "Processing record 552|tucuma\n",
      "Processing record 553|guasdualito\n",
      "Processing record 554|rovnoye\n"
     ]
    }
   ],
   "source": [
    "url = \"http://api.openweathermap.org/data/2.5/weather?units=Imperial&\"\n",
    "\n",
    "#Define empty lists to store values\n",
    "cloudiness = []\n",
    "country = []\n",
    "date = []\n",
    "max_temp = []\n",
    "humidity = []\n",
    "lat = []\n",
    "lng = []\n",
    "wind_speed = []\n",
    "city_name = []\n",
    "\n",
    "#Looping through cities to make api calls using city as query\n",
    "i = 1\n",
    "for city in cities:\n",
    "    city=city\n",
    "    query_url = url + \"appid=\" + weather_api_key + \"&q=\" + city\n",
    "    response = requests.get(query_url).json()\n",
    "    \n",
    "#Extracting data. Missing data is handled by try and except  \n",
    "    try:\n",
    "        \n",
    "        cloudiness.append(response[\"clouds\"][\"all\"])\n",
    "        country.append(response[\"sys\"][\"country\"])\n",
    "        date.append(response[\"dt\"])\n",
    "        max_temp.append(response[\"main\"]['temp_max'])\n",
    "        humidity.append(response[\"main\"]['humidity'])\n",
    "        lat.append(response[\"coord\"][\"lat\"])  \n",
    "        lng.append(response[\"coord\"][\"lon\"])\n",
    "        wind_speed.append(response[\"wind\"][\"speed\"])\n",
    "        city_name.append(response[\"name\"])\n",
    "        print(f\"Processing record {i}|{city}\")\n",
    "        i+=1\n",
    "    except (KeyError):\n",
    "        print(\"City not found. skipping.\")\n"
   ]
  },
  {
   "cell_type": "markdown",
   "metadata": {},
   "source": [
    "### Convert Raw Data to DataFrame\n",
    "* Export the city data into a .csv.\n",
    "* Display the DataFrame"
   ]
  },
  {
   "cell_type": "code",
   "execution_count": 14,
   "metadata": {},
   "outputs": [
    {
     "data": {
      "text/html": [
       "<div>\n",
       "<style scoped>\n",
       "    .dataframe tbody tr th:only-of-type {\n",
       "        vertical-align: middle;\n",
       "    }\n",
       "\n",
       "    .dataframe tbody tr th {\n",
       "        vertical-align: top;\n",
       "    }\n",
       "\n",
       "    .dataframe thead th {\n",
       "        text-align: right;\n",
       "    }\n",
       "</style>\n",
       "<table border=\"1\" class=\"dataframe\">\n",
       "  <thead>\n",
       "    <tr style=\"text-align: right;\">\n",
       "      <th></th>\n",
       "      <th>City</th>\n",
       "      <th>Cloudiness</th>\n",
       "      <th>Country</th>\n",
       "      <th>Date</th>\n",
       "      <th>Humidity</th>\n",
       "      <th>Lat</th>\n",
       "      <th>Lng</th>\n",
       "      <th>Max Temp</th>\n",
       "      <th>Wind Speed</th>\n",
       "    </tr>\n",
       "    <tr>\n",
       "      <th>City ID</th>\n",
       "      <th></th>\n",
       "      <th></th>\n",
       "      <th></th>\n",
       "      <th></th>\n",
       "      <th></th>\n",
       "      <th></th>\n",
       "      <th></th>\n",
       "      <th></th>\n",
       "      <th></th>\n",
       "    </tr>\n",
       "  </thead>\n",
       "  <tbody>\n",
       "    <tr>\n",
       "      <th>0</th>\n",
       "      <td>Caxito</td>\n",
       "      <td>75</td>\n",
       "      <td>AO</td>\n",
       "      <td>1612480190</td>\n",
       "      <td>78</td>\n",
       "      <td>-8.5785</td>\n",
       "      <td>13.6643</td>\n",
       "      <td>80.60</td>\n",
       "      <td>6.91</td>\n",
       "    </tr>\n",
       "    <tr>\n",
       "      <th>1</th>\n",
       "      <td>Tuktoyaktuk</td>\n",
       "      <td>75</td>\n",
       "      <td>CA</td>\n",
       "      <td>1612480134</td>\n",
       "      <td>67</td>\n",
       "      <td>69.4541</td>\n",
       "      <td>-133.0374</td>\n",
       "      <td>-34.60</td>\n",
       "      <td>11.50</td>\n",
       "    </tr>\n",
       "    <tr>\n",
       "      <th>2</th>\n",
       "      <td>Bredasdorp</td>\n",
       "      <td>90</td>\n",
       "      <td>ZA</td>\n",
       "      <td>1612480190</td>\n",
       "      <td>77</td>\n",
       "      <td>-34.5322</td>\n",
       "      <td>20.0403</td>\n",
       "      <td>68.00</td>\n",
       "      <td>5.75</td>\n",
       "    </tr>\n",
       "    <tr>\n",
       "      <th>3</th>\n",
       "      <td>Mar del Plata</td>\n",
       "      <td>40</td>\n",
       "      <td>AR</td>\n",
       "      <td>1612480186</td>\n",
       "      <td>77</td>\n",
       "      <td>-38.0023</td>\n",
       "      <td>-57.5575</td>\n",
       "      <td>64.99</td>\n",
       "      <td>10.36</td>\n",
       "    </tr>\n",
       "    <tr>\n",
       "      <th>4</th>\n",
       "      <td>Atuona</td>\n",
       "      <td>25</td>\n",
       "      <td>PF</td>\n",
       "      <td>1612480190</td>\n",
       "      <td>71</td>\n",
       "      <td>-9.8000</td>\n",
       "      <td>-139.0333</td>\n",
       "      <td>78.58</td>\n",
       "      <td>10.98</td>\n",
       "    </tr>\n",
       "  </tbody>\n",
       "</table>\n",
       "</div>"
      ],
      "text/plain": [
       "                  City  Cloudiness Country        Date  Humidity      Lat  \\\n",
       "City ID                                                                     \n",
       "0               Caxito          75      AO  1612480190        78  -8.5785   \n",
       "1          Tuktoyaktuk          75      CA  1612480134        67  69.4541   \n",
       "2           Bredasdorp          90      ZA  1612480190        77 -34.5322   \n",
       "3        Mar del Plata          40      AR  1612480186        77 -38.0023   \n",
       "4               Atuona          25      PF  1612480190        71  -9.8000   \n",
       "\n",
       "              Lng  Max Temp  Wind Speed  \n",
       "City ID                                  \n",
       "0         13.6643     80.60        6.91  \n",
       "1       -133.0374    -34.60       11.50  \n",
       "2         20.0403     68.00        5.75  \n",
       "3        -57.5575     64.99       10.36  \n",
       "4       -139.0333     78.58       10.98  "
      ]
     },
     "execution_count": 14,
     "metadata": {},
     "output_type": "execute_result"
    }
   ],
   "source": [
    "#Creating city dataframe\n",
    "city_df = pd.DataFrame({\"City\":city_name, \n",
    "                        \"Cloudiness\":cloudiness, \n",
    "                        \"Country\":country, \n",
    "                        \"Date\":date, \n",
    "                        \"Humidity\":humidity,\n",
    "                        \"Lat\":lat,\n",
    "                        \"Lng\":lng,\n",
    "                        \"Max Temp\":max_temp,\n",
    "                        \"Wind Speed\":wind_speed\n",
    "                                         })\n",
    "city_df = city_df.rename_axis('City ID')\n",
    "\n",
    "#Exporting data to csv\n",
    "city_df.to_csv(\"../output_data/cities.csv\")\n",
    "\n",
    "#Displaying dataframe\n",
    "city_df.head()"
   ]
  },
  {
   "cell_type": "markdown",
   "metadata": {},
   "source": [
    "## Inspect the data and remove the cities where the humidity > 100%.\n",
    "----\n",
    "Skip this step if there are no cities that have humidity > 100%. "
   ]
  },
  {
   "cell_type": "code",
   "execution_count": 6,
   "metadata": {},
   "outputs": [
    {
     "data": {
      "text/html": [
       "<div>\n",
       "<style scoped>\n",
       "    .dataframe tbody tr th:only-of-type {\n",
       "        vertical-align: middle;\n",
       "    }\n",
       "\n",
       "    .dataframe tbody tr th {\n",
       "        vertical-align: top;\n",
       "    }\n",
       "\n",
       "    .dataframe thead th {\n",
       "        text-align: right;\n",
       "    }\n",
       "</style>\n",
       "<table border=\"1\" class=\"dataframe\">\n",
       "  <thead>\n",
       "    <tr style=\"text-align: right;\">\n",
       "      <th></th>\n",
       "      <th>Lat</th>\n",
       "      <th>Lng</th>\n",
       "      <th>Max Temp</th>\n",
       "      <th>Humidity</th>\n",
       "      <th>Cloudiness</th>\n",
       "      <th>Wind Speed</th>\n",
       "      <th>Date</th>\n",
       "    </tr>\n",
       "  </thead>\n",
       "  <tbody>\n",
       "    <tr>\n",
       "      <th>count</th>\n",
       "      <td>550.000000</td>\n",
       "      <td>550.000000</td>\n",
       "      <td>550.000000</td>\n",
       "      <td>550.000000</td>\n",
       "      <td>550.000000</td>\n",
       "      <td>550.000000</td>\n",
       "      <td>5.500000e+02</td>\n",
       "    </tr>\n",
       "    <tr>\n",
       "      <th>mean</th>\n",
       "      <td>19.973545</td>\n",
       "      <td>17.124400</td>\n",
       "      <td>58.331400</td>\n",
       "      <td>67.890909</td>\n",
       "      <td>52.141818</td>\n",
       "      <td>8.544800</td>\n",
       "      <td>1.585764e+09</td>\n",
       "    </tr>\n",
       "    <tr>\n",
       "      <th>std</th>\n",
       "      <td>33.284840</td>\n",
       "      <td>91.595451</td>\n",
       "      <td>25.795297</td>\n",
       "      <td>20.864881</td>\n",
       "      <td>35.766469</td>\n",
       "      <td>6.078869</td>\n",
       "      <td>5.539674e+01</td>\n",
       "    </tr>\n",
       "    <tr>\n",
       "      <th>min</th>\n",
       "      <td>-54.800000</td>\n",
       "      <td>-179.170000</td>\n",
       "      <td>-11.340000</td>\n",
       "      <td>9.000000</td>\n",
       "      <td>0.000000</td>\n",
       "      <td>0.160000</td>\n",
       "      <td>1.585764e+09</td>\n",
       "    </tr>\n",
       "    <tr>\n",
       "      <th>25%</th>\n",
       "      <td>-8.077500</td>\n",
       "      <td>-64.627500</td>\n",
       "      <td>42.800000</td>\n",
       "      <td>55.000000</td>\n",
       "      <td>20.000000</td>\n",
       "      <td>4.525000</td>\n",
       "      <td>1.585764e+09</td>\n",
       "    </tr>\n",
       "    <tr>\n",
       "      <th>50%</th>\n",
       "      <td>23.630000</td>\n",
       "      <td>19.635000</td>\n",
       "      <td>64.940000</td>\n",
       "      <td>72.000000</td>\n",
       "      <td>57.000000</td>\n",
       "      <td>7.325000</td>\n",
       "      <td>1.585764e+09</td>\n",
       "    </tr>\n",
       "    <tr>\n",
       "      <th>75%</th>\n",
       "      <td>48.672500</td>\n",
       "      <td>97.350000</td>\n",
       "      <td>78.800000</td>\n",
       "      <td>83.000000</td>\n",
       "      <td>86.750000</td>\n",
       "      <td>11.410000</td>\n",
       "      <td>1.585764e+09</td>\n",
       "    </tr>\n",
       "    <tr>\n",
       "      <th>max</th>\n",
       "      <td>78.220000</td>\n",
       "      <td>179.320000</td>\n",
       "      <td>102.200000</td>\n",
       "      <td>100.000000</td>\n",
       "      <td>100.000000</td>\n",
       "      <td>46.080000</td>\n",
       "      <td>1.585764e+09</td>\n",
       "    </tr>\n",
       "  </tbody>\n",
       "</table>\n",
       "</div>"
      ],
      "text/plain": [
       "              Lat         Lng    Max Temp    Humidity  Cloudiness  Wind Speed  \\\n",
       "count  550.000000  550.000000  550.000000  550.000000  550.000000  550.000000   \n",
       "mean    19.973545   17.124400   58.331400   67.890909   52.141818    8.544800   \n",
       "std     33.284840   91.595451   25.795297   20.864881   35.766469    6.078869   \n",
       "min    -54.800000 -179.170000  -11.340000    9.000000    0.000000    0.160000   \n",
       "25%     -8.077500  -64.627500   42.800000   55.000000   20.000000    4.525000   \n",
       "50%     23.630000   19.635000   64.940000   72.000000   57.000000    7.325000   \n",
       "75%     48.672500   97.350000   78.800000   83.000000   86.750000   11.410000   \n",
       "max     78.220000  179.320000  102.200000  100.000000  100.000000   46.080000   \n",
       "\n",
       "               Date  \n",
       "count  5.500000e+02  \n",
       "mean   1.585764e+09  \n",
       "std    5.539674e+01  \n",
       "min    1.585764e+09  \n",
       "25%    1.585764e+09  \n",
       "50%    1.585764e+09  \n",
       "75%    1.585764e+09  \n",
       "max    1.585764e+09  "
      ]
     },
     "execution_count": 6,
     "metadata": {},
     "output_type": "execute_result"
    }
   ],
   "source": []
  },
  {
   "cell_type": "code",
   "execution_count": 17,
   "metadata": {},
   "outputs": [
    {
     "data": {
      "text/plain": [
       "Int64Index([], dtype='int64')"
      ]
     },
     "execution_count": 17,
     "metadata": {},
     "output_type": "execute_result"
    }
   ],
   "source": [
    "#  Get the indices of cities that have humidity over 100%.\n"
   ]
  },
  {
   "cell_type": "code",
   "execution_count": 19,
   "metadata": {},
   "outputs": [
    {
     "data": {
      "text/html": [
       "<div>\n",
       "<style scoped>\n",
       "    .dataframe tbody tr th:only-of-type {\n",
       "        vertical-align: middle;\n",
       "    }\n",
       "\n",
       "    .dataframe tbody tr th {\n",
       "        vertical-align: top;\n",
       "    }\n",
       "\n",
       "    .dataframe thead th {\n",
       "        text-align: right;\n",
       "    }\n",
       "</style>\n",
       "<table border=\"1\" class=\"dataframe\">\n",
       "  <thead>\n",
       "    <tr style=\"text-align: right;\">\n",
       "      <th></th>\n",
       "      <th>City</th>\n",
       "      <th>Lat</th>\n",
       "      <th>Lng</th>\n",
       "      <th>Max Temp</th>\n",
       "      <th>Humidity</th>\n",
       "      <th>Cloudiness</th>\n",
       "      <th>Wind Speed</th>\n",
       "      <th>Country</th>\n",
       "      <th>Date</th>\n",
       "    </tr>\n",
       "  </thead>\n",
       "  <tbody>\n",
       "    <tr>\n",
       "      <td>0</td>\n",
       "      <td>butaritari</td>\n",
       "      <td>3.07</td>\n",
       "      <td>172.79</td>\n",
       "      <td>83.32</td>\n",
       "      <td>74</td>\n",
       "      <td>84</td>\n",
       "      <td>10.42</td>\n",
       "      <td>KI</td>\n",
       "      <td>1593605283</td>\n",
       "    </tr>\n",
       "    <tr>\n",
       "      <td>1</td>\n",
       "      <td>yerbogachen</td>\n",
       "      <td>61.28</td>\n",
       "      <td>108.01</td>\n",
       "      <td>79.52</td>\n",
       "      <td>58</td>\n",
       "      <td>20</td>\n",
       "      <td>7.70</td>\n",
       "      <td>RU</td>\n",
       "      <td>1593605121</td>\n",
       "    </tr>\n",
       "    <tr>\n",
       "      <td>2</td>\n",
       "      <td>cape town</td>\n",
       "      <td>-33.93</td>\n",
       "      <td>18.42</td>\n",
       "      <td>73.00</td>\n",
       "      <td>77</td>\n",
       "      <td>27</td>\n",
       "      <td>4.70</td>\n",
       "      <td>ZA</td>\n",
       "      <td>1593605039</td>\n",
       "    </tr>\n",
       "    <tr>\n",
       "      <td>3</td>\n",
       "      <td>touba</td>\n",
       "      <td>8.28</td>\n",
       "      <td>-7.68</td>\n",
       "      <td>79.97</td>\n",
       "      <td>75</td>\n",
       "      <td>82</td>\n",
       "      <td>3.58</td>\n",
       "      <td>CI</td>\n",
       "      <td>1593605284</td>\n",
       "    </tr>\n",
       "    <tr>\n",
       "      <td>4</td>\n",
       "      <td>jamestown</td>\n",
       "      <td>42.10</td>\n",
       "      <td>-79.24</td>\n",
       "      <td>64.00</td>\n",
       "      <td>88</td>\n",
       "      <td>1</td>\n",
       "      <td>6.93</td>\n",
       "      <td>US</td>\n",
       "      <td>1593605284</td>\n",
       "    </tr>\n",
       "  </tbody>\n",
       "</table>\n",
       "</div>"
      ],
      "text/plain": [
       "          City    Lat     Lng  Max Temp  Humidity  Cloudiness  Wind Speed  \\\n",
       "0   butaritari   3.07  172.79     83.32        74          84       10.42   \n",
       "1  yerbogachen  61.28  108.01     79.52        58          20        7.70   \n",
       "2    cape town -33.93   18.42     73.00        77          27        4.70   \n",
       "3        touba   8.28   -7.68     79.97        75          82        3.58   \n",
       "4    jamestown  42.10  -79.24     64.00        88           1        6.93   \n",
       "\n",
       "  Country        Date  \n",
       "0      KI  1593605283  \n",
       "1      RU  1593605121  \n",
       "2      ZA  1593605039  \n",
       "3      CI  1593605284  \n",
       "4      US  1593605284  "
      ]
     },
     "execution_count": 19,
     "metadata": {},
     "output_type": "execute_result"
    }
   ],
   "source": [
    "# Make a new DataFrame equal to the city data to drop all humidity outliers by index.\n",
    "# Passing \"inplace=False\" will make a copy of the city_data DataFrame, which we call \"clean_city_data\".\n"
   ]
  },
  {
   "cell_type": "code",
   "execution_count": null,
   "metadata": {},
   "outputs": [],
   "source": [
    "\n"
   ]
  },
  {
   "cell_type": "markdown",
   "metadata": {},
   "source": [
    "## Plotting the Data\n",
    "* Use proper labeling of the plots using plot titles (including date of analysis) and axes labels.\n",
    "* Save the plotted figures as .pngs."
   ]
  },
  {
   "cell_type": "markdown",
   "metadata": {},
   "source": [
    "## Latitude vs. Temperature Plot"
   ]
  },
  {
   "cell_type": "code",
   "execution_count": 28,
   "metadata": {
    "scrolled": true
   },
   "outputs": [
    {
     "data": {
      "image/png": "[encoded data removed]",
      "text/plain": [
       "<Figure size 432x288 with 1 Axes>"
      ]
     },
     "metadata": {
      "needs_background": "light"
     },
     "output_type": "display_data"
    }
   ],
   "source": [
    "# Create Scatter Plot for Each Data Type\n",
    "plt.scatter(city_df[\"Lat\"], city_df[\"Max Temp\"], facecolors=\"blue\", marker=\"o\", edgecolor=\"black\")\n",
    "\n",
    "# Include Other Graph Properties\n",
    "plt.title(\"City Latitude vs. Max Temp (02/01/2020)\")\n",
    "plt.ylabel(\"Max Temperature (°F)\")\n",
    "plt.xlabel(\"Latitude\")\n",
    "plt.grid(True)\n",
    "\n",
    "plt.savefig(\"../output_data\\Fig1.png\")\n",
    "\n",
    "# Show Plot\n",
    "plt.show()\n",
    "\n",
    "# This plot is analysing the relationship between city latitude and temperature. \n"
   ]
  },
  {
   "cell_type": "markdown",
   "metadata": {},
   "source": [
    "## Latitude vs. Humidity Plot"
   ]
  },
  {
   "cell_type": "code",
   "execution_count": 29,
   "metadata": {},
   "outputs": [
    {
     "data": {
      "image/png": "[encoded data removed]",
      "text/plain": [
       "<Figure size 432x288 with 1 Axes>"
      ]
     },
     "metadata": {
      "needs_background": "light"
     },
     "output_type": "display_data"
    }
   ],
   "source": [
    "plt.scatter(city_df[\"Lat\"], city_df[\"Humidity\"], marker = \"o\", color = \"blue\",edgecolor = \"black\")\n",
    "plt.grid()\n",
    "plt.ylim(0, city_df[\"Humidity\"].max()+50)\n",
    "plt.xlabel(\"Latitude\")\n",
    "plt.ylabel(\"Humidity(%)\")\n",
    "plt.title(f\"City Latitude vs. Humidity ({shortened_timestamp})\")\n",
    "plt.savefig(\"../output_data\\Fig2.png\")\n",
    "plt.show()\n",
    "\n",
    "## This plot is analysing the relationship between city latitude and humidity. "
   ]
  },
  {
   "cell_type": "markdown",
   "metadata": {},
   "source": [
    "## Latitude vs. Cloudiness Plot"
   ]
  },
  {
   "cell_type": "code",
   "execution_count": 30,
   "metadata": {},
   "outputs": [
    {
     "data": {
      "image/png": "[encoded data removed]",
      "text/plain": [
       "<Figure size 432x288 with 1 Axes>"
      ]
     },
     "metadata": {
      "needs_background": "light"
     },
     "output_type": "display_data"
    }
   ],
   "source": [
    "plt.scatter(city_df[\"Lat\"], city_df[\"Cloudiness\"], marker = \"o\", color = \"blue\",edgecolor = \"black\")\n",
    "plt.grid()\n",
    "plt.xlabel(\"Latitude\")\n",
    "plt.ylabel(\"Cloudiness(%)\")\n",
    "plt.title(f\"City Latitude vs. Cloudiness ({shortened_timestamp})\")\n",
    "plt.savefig(\"../output_data\\Fig3.png\")\n",
    "plt.show()\n",
    "\n",
    "# This plot is analysing the relationship between city latitude and cloudiness. "
   ]
  },
  {
   "cell_type": "markdown",
   "metadata": {},
   "source": [
    "## Latitude vs. Wind Speed Plot"
   ]
  },
  {
   "cell_type": "code",
   "execution_count": 31,
   "metadata": {},
   "outputs": [
    {
     "data": {
      "image/png": "[encoded data removed]",
      "text/plain": [
       "<Figure size 432x288 with 1 Axes>"
      ]
     },
     "metadata": {
      "needs_background": "light"
     },
     "output_type": "display_data"
    }
   ],
   "source": [
    "plt.scatter(city_df[\"Lat\"], city_df[\"Wind Speed\"], marker = \"o\", color = \"blue\",edgecolor = \"black\")\n",
    "plt.grid()\n",
    "plt.xlabel(\"Latitude\")\n",
    "plt.ylabel(\"Wind Speed(mph)\")\n",
    "plt.title(f\"City Latitude vs. Wind Speed ({shortened_timestamp})\")\n",
    "plt.savefig(\"../output_data\\Fig4.png\")\n",
    "plt.show()\n",
    "\n",
    "# This plot is analysing the relationship between city latitude and wind speed."
   ]
  },
  {
   "cell_type": "markdown",
   "metadata": {},
   "source": [
    "## Linear Regression"
   ]
  },
  {
   "cell_type": "code",
   "execution_count": 33,
   "metadata": {},
   "outputs": [],
   "source": [
    "# OPTIONAL: Create a function to create Linear Regression plots\n",
    "# Add the linear regression equation and line to plot\n",
    "def linear_reg_plot(x_values,y_values):\n",
    "    (slope, intercept, rvalue, pvalue, stderr) = linregress(x_values, y_values)\n",
    "    regress_values = x_values * slope + intercept\n",
    "    line_eq = \"y = \" + str(round(slope,2)) + \"x + \" + str(round(intercept,2))\n",
    "    plt.scatter(x_values,y_values)\n",
    "    plt.plot(x_values,regress_values,\"r-\")\n",
    "    plt.annotate(line_eq,(x_values.median(),y_values.median()),fontsize=15,color=\"red\")\n",
    "    plt.xlabel(\"Latitude\")\n",
    "    print(f\"The r-squared is: {rvalue}\")\n",
    "    plt.show()"
   ]
  },
  {
   "cell_type": "markdown",
   "metadata": {},
   "source": [
    "####  Northern Hemisphere - Max Temp vs. Latitude Linear Regression"
   ]
  },
  {
   "cell_type": "code",
   "execution_count": 34,
   "metadata": {},
   "outputs": [
    {
     "name": "stdout",
     "output_type": "stream",
     "text": [
      "The r-squared is: -0.8555510153396985\n"
     ]
    },
    {
     "data": {
      "image/png": "[encoded data removed]",
      "text/plain": [
       "<Figure size 432x288 with 1 Axes>"
      ]
     },
     "metadata": {
      "needs_background": "light"
     },
     "output_type": "display_data"
    },
    {
     "name": "stdout",
     "output_type": "stream",
     "text": [
      "None\n"
     ]
    }
   ],
   "source": [
    "# Create Northern and Southern Hemisphere DataFrames\n",
    "Northern_hemisphere = city_df.loc[city_df[\"Lat\"]>0]\n",
    "Southern_hemisphere = city_df.loc[city_df[\"Lat\"]<0]\n",
    "\n",
    "x_values = Northern_hemisphere[\"Lat\"]\n",
    "y_values = Northern_hemisphere[\"Max Temp\"]\n",
    "plt.ylabel(\"Max Temp (F)\")\n",
    "print(linear_reg_plot(x_values,y_values))\n",
    "\n",
    "# There is a direct correlation between the latitude and temperature at the Northern Hemisphere. As the latitude increases, the temperature increases. "
   ]
  },
  {
   "cell_type": "markdown",
   "metadata": {},
   "source": [
    "####  Southern Hemisphere - Max Temp vs. Latitude Linear Regression"
   ]
  },
  {
   "cell_type": "code",
   "execution_count": 35,
   "metadata": {},
   "outputs": [
    {
     "name": "stdout",
     "output_type": "stream",
     "text": [
      "The r-squared is: 0.3046347422676662\n"
     ]
    },
    {
     "data": {
      "image/png": "[encoded data removed]",
      "text/plain": [
       "<Figure size 432x288 with 1 Axes>"
      ]
     },
     "metadata": {
      "needs_background": "light"
     },
     "output_type": "display_data"
    },
    {
     "name": "stdout",
     "output_type": "stream",
     "text": [
      "None\n"
     ]
    }
   ],
   "source": [
    "x_values = Southern_hemisphere[\"Lat\"]\n",
    "y_values = Southern_hemisphere[\"Max Temp\"]\n",
    "plt.ylabel(\"Max Temp (F)\")\n",
    "print(linear_reg_plot(x_values,y_values))\n",
    "\n",
    "# There is a direct correlation between the latitude and temperature at the Souther Hemisphere. As the latitude increases, the temperature increases. "
   ]
  },
  {
   "cell_type": "markdown",
   "metadata": {},
   "source": [
    "####  Northern Hemisphere - Humidity (%) vs. Latitude Linear Regression"
   ]
  },
  {
   "cell_type": "code",
   "execution_count": 36,
   "metadata": {},
   "outputs": [
    {
     "name": "stdout",
     "output_type": "stream",
     "text": [
      "The r-squared is: 0.3936947174898315\n"
     ]
    },
    {
     "data": {
      "image/png": "[encoded data removed]",
      "text/plain": [
       "<Figure size 432x288 with 1 Axes>"
      ]
     },
     "metadata": {
      "needs_background": "light"
     },
     "output_type": "display_data"
    },
    {
     "name": "stdout",
     "output_type": "stream",
     "text": [
      "None\n"
     ]
    }
   ],
   "source": [
    "x_values = Northern_hemisphere[\"Lat\"]\n",
    "y_values = Northern_hemisphere[\"Humidity\"]\n",
    "plt.ylabel(\"Humidity (%)\")\n",
    "print(linear_reg_plot(x_values,y_values))\n",
    "\n",
    "# There is a direct correlation between latitude and humidity at the Northern Hemisphere. As the humidity increases, so does the latitude. "
   ]
  },
  {
   "cell_type": "markdown",
   "metadata": {},
   "source": [
    "####  Southern Hemisphere - Humidity (%) vs. Latitude Linear Regression"
   ]
  },
  {
   "cell_type": "code",
   "execution_count": 37,
   "metadata": {},
   "outputs": [
    {
     "name": "stdout",
     "output_type": "stream",
     "text": [
      "The r-squared is: 0.42972215070017084\n"
     ]
    },
    {
     "data": {
      "image/png": "[encoded data removed]",
      "text/plain": [
       "<Figure size 432x288 with 1 Axes>"
      ]
     },
     "metadata": {
      "needs_background": "light"
     },
     "output_type": "display_data"
    },
    {
     "name": "stdout",
     "output_type": "stream",
     "text": [
      "None\n"
     ]
    }
   ],
   "source": [
    "x_values = Southern_hemisphere[\"Lat\"]\n",
    "y_values = Southern_hemisphere[\"Humidity\"]\n",
    "plt.ylim(0, y_values.max()+100)\n",
    "plt.ylabel(\"Humidity (%)\")\n",
    "print(linear_reg_plot(x_values,y_values))\n",
    "\n",
    "# There is a direct correlation between humidity and latitude at the Southern Hemisphere. As the humidity increases, so does the latitude. "
   ]
  },
  {
   "cell_type": "markdown",
   "metadata": {},
   "source": [
    "####  Northern Hemisphere - Cloudiness (%) vs. Latitude Linear Regression"
   ]
  },
  {
   "cell_type": "code",
   "execution_count": 38,
   "metadata": {},
   "outputs": [
    {
     "name": "stdout",
     "output_type": "stream",
     "text": [
      "The r-squared is: 0.28810001010922964\n"
     ]
    },
    {
     "data": {
      "image/png": "[encoded data removed]",
      "text/plain": [
       "<Figure size 432x288 with 1 Axes>"
      ]
     },
     "metadata": {
      "needs_background": "light"
     },
     "output_type": "display_data"
    },
    {
     "name": "stdout",
     "output_type": "stream",
     "text": [
      "None\n"
     ]
    }
   ],
   "source": [
    "x_values = Northern_hemisphere[\"Lat\"]\n",
    "y_values = Northern_hemisphere[\"Cloudiness\"]\n",
    "plt.ylabel(\"Cloudiness\")\n",
    "print(linear_reg_plot(x_values,y_values))\n",
    "\n",
    "# There is a direct correlation between latitude and cloudiness at the Northern Hemisphere. As the cloudiness increases, so does the latitude. "
   ]
  },
  {
   "cell_type": "markdown",
   "metadata": {},
   "source": [
    "####  Southern Hemisphere - Cloudiness (%) vs. Latitude Linear Regression"
   ]
  },
  {
   "cell_type": "code",
   "execution_count": 39,
   "metadata": {},
   "outputs": [
    {
     "name": "stdout",
     "output_type": "stream",
     "text": [
      "The r-squared is: 0.347645393941907\n"
     ]
    },
    {
     "data": {
      "image/png": "[encoded data removed]",
      "text/plain": [
       "<Figure size 432x288 with 1 Axes>"
      ]
     },
     "metadata": {
      "needs_background": "light"
     },
     "output_type": "display_data"
    },
    {
     "name": "stdout",
     "output_type": "stream",
     "text": [
      "None\n"
     ]
    }
   ],
   "source": [
    "x_values = Southern_hemisphere[\"Lat\"]\n",
    "y_values = Southern_hemisphere[\"Cloudiness\"]\n",
    "plt.ylabel(\"Cloudiness\")\n",
    "print(linear_reg_plot(x_values,y_values))\n",
    "\n",
    "# There is a direct correlation between latitude and cloudiness at the Southern Hemisphere. As the cloudiness increases, so does the latitude. "
   ]
  },
  {
   "cell_type": "markdown",
   "metadata": {},
   "source": [
    "####  Northern Hemisphere - Wind Speed (mph) vs. Latitude Linear Regression"
   ]
  },
  {
   "cell_type": "code",
   "execution_count": 40,
   "metadata": {},
   "outputs": [
    {
     "name": "stdout",
     "output_type": "stream",
     "text": [
      "The r-squared is: 0.08627279672720142\n"
     ]
    },
    {
     "data": {
      "image/png": "[encoded data removed]",
      "text/plain": [
       "<Figure size 432x288 with 1 Axes>"
      ]
     },
     "metadata": {
      "needs_background": "light"
     },
     "output_type": "display_data"
    },
    {
     "name": "stdout",
     "output_type": "stream",
     "text": [
      "None\n"
     ]
    }
   ],
   "source": [
    "x_values = Northern_hemisphere[\"Lat\"]\n",
    "y_values = Northern_hemisphere[\"Wind Speed\"]\n",
    "plt.ylabel(\"Wind Speed\")\n",
    "print(linear_reg_plot(x_values,y_values))\n",
    "\n",
    "# As the latitude increases, the wind speed remains almost the same at the Northern Hemisphere. "
   ]
  },
  {
   "cell_type": "markdown",
   "metadata": {},
   "source": [
    "####  Southern Hemisphere - Wind Speed (mph) vs. Latitude Linear Regression"
   ]
  },
  {
   "cell_type": "code",
   "execution_count": 41,
   "metadata": {},
   "outputs": [
    {
     "name": "stdout",
     "output_type": "stream",
     "text": [
      "The r-squared is: -0.3357733028048196\n"
     ]
    },
    {
     "data": {
      "image/png": "[encoded data removed]",
      "text/plain": [
       "<Figure size 432x288 with 1 Axes>"
      ]
     },
     "metadata": {
      "needs_background": "light"
     },
     "output_type": "display_data"
    },
    {
     "name": "stdout",
     "output_type": "stream",
     "text": [
      "None\n"
     ]
    }
   ],
   "source": [
    "x_values = Southern_hemisphere[\"Lat\"]\n",
    "y_values = Southern_hemisphere[\"Wind Speed\"]\n",
    "plt.ylabel(\"Wind Speed\")\n",
    "print(linear_reg_plot(x_values,y_values))\n",
    "\n",
    "# There is an indirect correlation between latitude and wind speed at the Souther Hemisphere. As the latitude increases, the wind speed decreases. "
   ]
  },
  {
   "cell_type": "code",
   "execution_count": null,
   "metadata": {},
   "outputs": [],
   "source": []
  }
 ],
 "metadata": {
  "anaconda-cloud": {},
  "kernel_info": {
   "name": "python3"
  },
  "kernelspec": {
   "display_name": "Python 3",
   "language": "python",
   "name": "python3"
  },
  "language_info": {
   "codemirror_mode": {
    "name": "ipython",
    "version": 3
   },
   "file_extension": ".py",
   "mimetype": "text/x-python",
   "name": "python",
   "nbconvert_exporter": "python",
   "pygments_lexer": "ipython3",
   "version": "3.9.2"
  },
  "latex_envs": {
   "LaTeX_envs_menu_present": true,
   "autoclose": false,
   "autocomplete": true,
   "bibliofile": "biblio.bib",
   "cite_by": "apalike",
   "current_citInitial": 1,
   "eqLabelWithNumbers": true,
   "eqNumInitial": 1,
   "hotkeys": {
    "equation": "Ctrl-E",
    "itemize": "Ctrl-I"
   },
   "labels_anchors": false,
   "latex_user_defs": false,
   "report_style_numbering": false,
   "user_envs_cfg": false
  },
  "nteract": {
   "version": "0.12.3"
  }
 },
 "nbformat": 4,
 "nbformat_minor": 2
}
